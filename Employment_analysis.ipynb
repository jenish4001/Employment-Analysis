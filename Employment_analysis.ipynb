{
 "cells": [
  {
   "cell_type": "markdown",
   "metadata": {},
   "source": [
    "<div align=\"right\"><b><font face=\"Arial\" size=4 color=black>Jenish Vinodbhai Dhaduk</font></b></div>\n",
    "<div align=\"right\"><b><font face=\"Arial\" size=4 color=black> Student ID- 989354198 </font></b></div><br><br>\n",
    "<center><font face=\"Arial\" size=6 color=purple>Topic Name - Employment analysis for the city. </font></center>"
   ]
  },
  {
   "cell_type": "markdown",
   "metadata": {},
   "source": [
    "# 1.Introduction."
   ]
  },
  {
   "cell_type": "markdown",
   "metadata": {},
   "source": [
    "The San Francisco Chronicle newspaper requires some meaningful information about the cost of living in the city to publish as a main page article. For that a dataset from the San Francisco Controller's Office is given for analysis. The San Francisco Controller's Office maintains a database of the salary and benefits paid to City employees.\n",
    "\n",
    "The dataset contains various information about each city employee in 22 different columns like,\n",
    "1.In which department they are woking.\n",
    "2.How much compensation each employee is getting ?\n",
    "3.what is the total salary of each employee. \n",
    "4.The overtime history of each employee.\n",
    "\n",
    "Mostly the articles that are supposed to be printed on the first page of newspaper has to be something that makes people want to buy newspaper. Some interesting facts about their own city might attracts people attention. Therefore, newspaper needs some interesting facts and figures about the various jobs in the city. A table representing the top job titles in different working aspects can be helpful to The San Francisco Chronicle newspaper.\n"
   ]
  },
  {
   "cell_type": "code",
   "execution_count": 1,
   "metadata": {},
   "outputs": [],
   "source": [
    "main<-read.csv(file.choose())"
   ]
  },
  {
   "cell_type": "markdown",
   "metadata": {},
   "source": [
    "Reads the \"employee-compensation\" dataset."
   ]
  },
  {
   "cell_type": "markdown",
   "metadata": {},
   "source": [
    "# 2. Data Exploration."
   ]
  },
  {
   "cell_type": "code",
   "execution_count": 2,
   "metadata": {
    "scrolled": true
   },
   "outputs": [
    {
     "name": "stderr",
     "output_type": "stream",
     "text": [
      "\n",
      "Attaching package: 'dplyr'\n",
      "\n",
      "The following objects are masked from 'package:stats':\n",
      "\n",
      "    filter, lag\n",
      "\n",
      "The following objects are masked from 'package:base':\n",
      "\n",
      "    intersect, setdiff, setequal, union\n",
      "\n"
     ]
    },
    {
     "data": {
      "text/plain": [
       "    Year.Type           Year      Organization.Group.Code\n",
       " Calendar:499765   Min.   :2013   Min.   :1.000          \n",
       " Fiscal  :335542   1st Qu.:2015   1st Qu.:2.000          \n",
       "                   Median :2017   Median :4.000          \n",
       "                   Mean   :2017   Mean   :3.718          \n",
       "                   3rd Qu.:2018   3rd Qu.:6.000          \n",
       "                   Max.   :2028   Max.   :7.000          \n",
       "                                                         \n",
       "                                Organization.Group           Department.Code  \n",
       " Community Health                        :148821   DPH               :148821  \n",
       " Culture & Recreation                    : 61716   MTA               : 99167  \n",
       " General Administration & Finance        : 62266   POL               : 54755  \n",
       " General City Responsibilities           :154582   REC               : 38327  \n",
       " Human Welfare & Neighborhood Development: 61880   DSS               : 35392  \n",
       " Public Protection                       :131841   __NOT_APPLICABLE__: 31837  \n",
       " Public Works, Transportation & Commerce :214201   (Other)           :427008  \n",
       "                         Department       Union.Code   \n",
       "                              :400498   Min.   :  1.0  \n",
       " DPH Public Health            : 94616   1st Qu.:250.0  \n",
       " MTA Municipal Transprtn Agncy: 63852   Median :535.0  \n",
       " HSA Human Services Agency    : 35392   Mean   :490.6  \n",
       " POL Police                   : 34548   3rd Qu.:790.0  \n",
       " REC Recreation & Park Commsn : 24136   Max.   :990.0  \n",
       " (Other)                      :182265   NA's   :561    \n",
       "                                             Union        Job.Family.Code \n",
       " SEIU, Local 1021, Misc                         :151867   2300   : 82526  \n",
       " SEIU - Miscellaneous, Local 1021               :122940   9100   : 69190  \n",
       " Prof & Tech Eng, Local 21                      : 60497   Q000   : 53443  \n",
       " Prof & Tech Engineers - Miscellaneous, Local 21: 55771   7300   : 48907  \n",
       " SEIU - Staff and Per Diem Nurses, Local 1021   : 32880   2900   : 43806  \n",
       " Police Officers' Association                   : 28171   9900   : 36784  \n",
       " (Other)                                        :383181   (Other):500651  \n",
       "               Job.Family        Job.Code                          Job        \n",
       " Nursing            : 82526   9163   : 52300   Transit Operator      : 52300  \n",
       " Street Transit     : 69190   P103   : 28242   Special Nurse         : 28242  \n",
       " Police Services    : 53443   2320   : 26104   Registered Nurse      : 26104  \n",
       " Journeyman Trade   : 48907   H002   : 17190   Firefighter           : 17190  \n",
       " Human Services     : 43806   2708   : 16218   Custodian             : 16218  \n",
       " Public Service Aide: 36784   9910   : 16108   Public Service Trainee: 16108  \n",
       " (Other)            :500651   (Other):679145   (Other)               :679145  \n",
       " Employee.Identifier    Salaries         Overtime      Other.Salaries  \n",
       " Min.   :       1    Min.   :-68772   Min.   :-18458   Min.   :-19131  \n",
       " 1st Qu.:   27282    1st Qu.:  5734   1st Qu.:     0   1st Qu.:     0  \n",
       " Median :   54794    Median : 52664   Median :     0   Median :   200  \n",
       " Mean   : 4132258    Mean   : 54097   Mean   :  4194   Mean   :  2828  \n",
       " 3rd Qu.: 8552314    3rd Qu.: 85601   3rd Qu.:  2020   3rd Qu.:  2740  \n",
       " Max.   :11000143    Max.   :645740   Max.   :307043   Max.   :342803  \n",
       "                                                                       \n",
       "  Total.Salary      Retirement     Health.and.Dental Other.Benefits    \n",
       " Min.   :-68772   Min.   :-30469   Min.   :-2940     Min.   :-10636.5  \n",
       " 1st Qu.:  6500   1st Qu.:     0   1st Qu.: 2162     1st Qu.:   425.6  \n",
       " Median : 56975   Median : 10550   Median :11492     Median :  3131.3  \n",
       " Mean   : 61118   Mean   : 10570   Mean   : 9461     Mean   :  4065.9  \n",
       " 3rd Qu.: 95825   3rd Qu.: 17278   3rd Qu.:13371     3rd Qu.:  6436.2  \n",
       " Max.   :652548   Max.   :120791   Max.   :36370     Max.   : 39451.3  \n",
       "                                                                       \n",
       " Total.Benefits   Total.Compensation\n",
       " Min.   :-21295   Min.   :-74083    \n",
       " 1st Qu.:  1533   1st Qu.:  8755    \n",
       " Median : 25503   Median : 84437    \n",
       " Mean   : 24134   Mean   : 85252    \n",
       " 3rd Qu.: 40061   3rd Qu.:136202    \n",
       " Max.   :160646   Max.   :813194    \n",
       "                                    "
      ]
     },
     "metadata": {},
     "output_type": "display_data"
    }
   ],
   "source": [
    "library('tidyr')\n",
    "library('dplyr')\n",
    "library('ggplot2')\n",
    "sum<-summary(main)\n",
    "sum"
   ]
  },
  {
   "cell_type": "markdown",
   "metadata": {},
   "source": [
    "2.1 Summary function provides the Brief information about the selected Dataset."
   ]
  },
  {
   "cell_type": "code",
   "execution_count": 24,
   "metadata": {},
   "outputs": [
    {
     "data": {
      "text/html": [
       "<table>\n",
       "<thead><tr><th scope=col>Year.Type</th><th scope=col>Year</th><th scope=col>Organization.Group.Code</th><th scope=col>Organization.Group</th><th scope=col>Department.Code</th><th scope=col>Department</th><th scope=col>Union.Code</th><th scope=col>Union</th><th scope=col>Job.Family.Code</th><th scope=col>Job.Family</th><th scope=col>...</th><th scope=col>Employee.Identifier</th><th scope=col>Salaries</th><th scope=col>Overtime</th><th scope=col>Other.Salaries</th><th scope=col>Total.Salary</th><th scope=col>Retirement</th><th scope=col>Health.and.Dental</th><th scope=col>Other.Benefits</th><th scope=col>Total.Benefits</th><th scope=col>Total.Compensation</th></tr></thead>\n",
       "<tbody>\n",
       "\t<tr><td>Calendar                      </td><td>2028                          </td><td>7                             </td><td>General City Responsibilities </td><td>229259                        </td><td>                              </td><td>792                           </td><td>Utd Pub EmpL790 SEIU-Crt Clrks</td><td>0000                          </td><td>Untitled                      </td><td>...                           </td><td>8540990                       </td><td>   674.28                     </td><td>     0.00                     </td><td>    5.76                      </td><td>   680.04                     </td><td>  130.91                      </td><td>    0.00                      </td><td>   53.86                      </td><td>  184.77                      </td><td>   864.81                     </td></tr>\n",
       "\t<tr><td>Calendar                      </td><td>2028                          </td><td>1                             </td><td>Public Protection             </td><td>CRT                           </td><td>                              </td><td>792                           </td><td>Utd Pub EmpL790 SEIU-Crt Clrks</td><td>0000                          </td><td>Untitled                      </td><td>...                           </td><td>8540990                       </td><td>   674.28                     </td><td>     0.00                     </td><td>    5.76                      </td><td>   680.04                     </td><td>  130.91                      </td><td>    0.00                      </td><td>   53.86                      </td><td>  184.77                      </td><td>   864.81                     </td></tr>\n",
       "\t<tr><td>Fiscal                        </td><td>2028                          </td><td>1                             </td><td>Public Protection             </td><td>CRT                           </td><td>                              </td><td>792                           </td><td>Utd Pub EmpL790 SEIU-Crt Clrks</td><td>0000                          </td><td>Untitled                      </td><td>...                           </td><td>8540990                       </td><td>   674.28                     </td><td>     0.00                     </td><td>    5.76                      </td><td>   680.04                     </td><td>  130.91                      </td><td>    0.00                      </td><td>   53.86                      </td><td>  184.77                      </td><td>   864.81                     </td></tr>\n",
       "\t<tr><td>Calendar                      </td><td>2019                          </td><td>7                             </td><td>General City Responsibilities </td><td>232108                        </td><td>                              </td><td>911                           </td><td>POA                           </td><td>Q000                          </td><td>Police Services               </td><td>...                           </td><td>8577148                       </td><td>124709.01                     </td><td>100499.62                     </td><td> 5501.78                      </td><td>230710.41                     </td><td>23271.86                      </td><td>14293.60                      </td><td> 3934.00                      </td><td>55975.56                      </td><td>286685.97                     </td></tr>\n",
       "\t<tr><td>Calendar                                                              </td><td>2019                                                                  </td><td>1                                                                     </td><td><span style=white-space:pre-wrap>Public Protection            </span> </td><td><span style=white-space:pre-wrap>DAT   </span>                        </td><td>                                                                      </td><td>311                                                                   </td><td><span style=white-space:pre-wrap>Municipal Attorneys Assoc     </span></td><td>8100                                                                  </td><td><span style=white-space:pre-wrap>Legal &amp; Court            </span> </td><td>...                                                                   </td><td>8603109                                                               </td><td>155489.01                                                             </td><td><span style=white-space:pre-wrap>     0.00</span>                     </td><td> 1500.00                                                              </td><td>156989.01                                                             </td><td>29239.75                                                              </td><td>14308.46                                                              </td><td>11100.60                                                              </td><td>69326.83                                                              </td><td>226315.84                                                             </td></tr>\n",
       "\t<tr><td>Calendar                      </td><td>2019                          </td><td>7                             </td><td>General City Responsibilities </td><td>102644                        </td><td>                              </td><td>130                           </td><td>Auto Machinist, Local 1414    </td><td>7300                          </td><td>Journeyman Trade              </td><td>...                           </td><td>8547213                       </td><td> 69490.84                     </td><td> 34969.05                     </td><td>13344.53                      </td><td>117804.42                     </td><td>16424.93                      </td><td>14308.44                      </td><td> 9651.75                      </td><td>48573.42                      </td><td>166377.84                     </td></tr>\n",
       "\t<tr><td>Calendar                                                              </td><td>2019                                                                  </td><td>7                                                                     </td><td>General City Responsibilities                                         </td><td><span style=white-space:pre-wrap>DEM   </span>                        </td><td>                                                                      </td><td>790                                                                   </td><td><span style=white-space:pre-wrap>SEIU, Local 1021, Misc        </span></td><td>8200                                                                  </td><td>Protection &amp; Apprehension                                         </td><td>...                                                                   </td><td>8544058                                                               </td><td> 57062.72                                                             </td><td><span style=white-space:pre-wrap>  6033.18</span>                     </td><td> 1192.00                                                              </td><td> 64287.90                                                             </td><td>11851.05                                                              </td><td>14308.40                                                              </td><td> 5473.16                                                              </td><td>33664.43                                                              </td><td> 97952.33                                                             </td></tr>\n",
       "\t<tr><td>Calendar                      </td><td>2019                          </td><td>7                             </td><td>General City Responsibilities </td><td>102644                        </td><td>                              </td><td>253                           </td><td>TWU, Local 250-A, TransitOpr  </td><td>9100                          </td><td>Street Transit                </td><td>...                           </td><td>8504938                       </td><td> 74231.85                     </td><td> 22440.63                     </td><td> 3619.49                      </td><td>100291.97                     </td><td>14778.60                      </td><td>14634.18                      </td><td> 7600.99                      </td><td>52233.11                      </td><td>152525.08                     </td></tr>\n",
       "\t<tr><td>Calendar                      </td><td>2019                          </td><td>4                             </td><td>Community Health              </td><td>DPH                           </td><td>                              </td><td>858                           </td><td>Teamsters, Local 856, Spv RN  </td><td>2300                          </td><td>Nursing                       </td><td>...                           </td><td>8559329                       </td><td> 22348.10                     </td><td>  5032.61                     </td><td> 1755.83                      </td><td> 29136.54                     </td><td> 4488.15                      </td><td>    0.00                      </td><td> 1739.06                      </td><td> 6227.21                      </td><td> 35363.75                     </td></tr>\n",
       "\t<tr><td>Calendar                      </td><td>2019                          </td><td>1                             </td><td>Public Protection             </td><td>POL                           </td><td>                              </td><td>911                           </td><td>POA                           </td><td>Q000                          </td><td>Police Services               </td><td>...                           </td><td>8506973                       </td><td>     0.00                     </td><td>  2911.35                     </td><td>    0.00                      </td><td>  2911.35                     </td><td>    0.00                      </td><td>    0.00                      </td><td>    0.00                      </td><td>    0.00                      </td><td>  2911.35                     </td></tr>\n",
       "</tbody>\n",
       "</table>\n"
      ],
      "text/latex": [
       "\\begin{tabular}{r|llllllllllllllllllllll}\n",
       " Year.Type & Year & Organization.Group.Code & Organization.Group & Department.Code & Department & Union.Code & Union & Job.Family.Code & Job.Family & ... & Employee.Identifier & Salaries & Overtime & Other.Salaries & Total.Salary & Retirement & Health.and.Dental & Other.Benefits & Total.Benefits & Total.Compensation\\\\\n",
       "\\hline\n",
       "\t Calendar                       & 2028                           & 7                              & General City Responsibilities  & 229259                         &                                & 792                            & Utd Pub EmpL790 SEIU-Crt Clrks & 0000                           & Untitled                       & ...                            & 8540990                        &    674.28                      &      0.00                      &     5.76                       &    680.04                      &   130.91                       &     0.00                       &    53.86                       &   184.77                       &    864.81                     \\\\\n",
       "\t Calendar                       & 2028                           & 1                              & Public Protection              & CRT                            &                                & 792                            & Utd Pub EmpL790 SEIU-Crt Clrks & 0000                           & Untitled                       & ...                            & 8540990                        &    674.28                      &      0.00                      &     5.76                       &    680.04                      &   130.91                       &     0.00                       &    53.86                       &   184.77                       &    864.81                     \\\\\n",
       "\t Fiscal                         & 2028                           & 1                              & Public Protection              & CRT                            &                                & 792                            & Utd Pub EmpL790 SEIU-Crt Clrks & 0000                           & Untitled                       & ...                            & 8540990                        &    674.28                      &      0.00                      &     5.76                       &    680.04                      &   130.91                       &     0.00                       &    53.86                       &   184.77                       &    864.81                     \\\\\n",
       "\t Calendar                       & 2019                           & 7                              & General City Responsibilities  & 232108                         &                                & 911                            & POA                            & Q000                           & Police Services                & ...                            & 8577148                        & 124709.01                      & 100499.62                      &  5501.78                       & 230710.41                      & 23271.86                       & 14293.60                       &  3934.00                       & 55975.56                       & 286685.97                     \\\\\n",
       "\t Calendar                       & 2019                           & 1                              & Public Protection              & DAT                            &                                & 311                            & Municipal Attorneys Assoc      & 8100                           & Legal \\& Court                & ...                            & 8603109                        & 155489.01                      &      0.00                      &  1500.00                       & 156989.01                      & 29239.75                       & 14308.46                       & 11100.60                       & 69326.83                       & 226315.84                     \\\\\n",
       "\t Calendar                       & 2019                           & 7                              & General City Responsibilities  & 102644                         &                                & 130                            & Auto Machinist, Local 1414     & 7300                           & Journeyman Trade               & ...                            & 8547213                        &  69490.84                      &  34969.05                      & 13344.53                       & 117804.42                      & 16424.93                       & 14308.44                       &  9651.75                       & 48573.42                       & 166377.84                     \\\\\n",
       "\t Calendar                       & 2019                           & 7                              & General City Responsibilities  & DEM                            &                                & 790                            & SEIU, Local 1021, Misc         & 8200                           & Protection \\& Apprehension    & ...                            & 8544058                        &  57062.72                      &   6033.18                      &  1192.00                       &  64287.90                      & 11851.05                       & 14308.40                       &  5473.16                       & 33664.43                       &  97952.33                     \\\\\n",
       "\t Calendar                       & 2019                           & 7                              & General City Responsibilities  & 102644                         &                                & 253                            & TWU, Local 250-A, TransitOpr   & 9100                           & Street Transit                 & ...                            & 8504938                        &  74231.85                      &  22440.63                      &  3619.49                       & 100291.97                      & 14778.60                       & 14634.18                       &  7600.99                       & 52233.11                       & 152525.08                     \\\\\n",
       "\t Calendar                       & 2019                           & 4                              & Community Health               & DPH                            &                                & 858                            & Teamsters, Local 856, Spv RN   & 2300                           & Nursing                        & ...                            & 8559329                        &  22348.10                      &   5032.61                      &  1755.83                       &  29136.54                      &  4488.15                       &     0.00                       &  1739.06                       &  6227.21                       &  35363.75                     \\\\\n",
       "\t Calendar                       & 2019                           & 1                              & Public Protection              & POL                            &                                & 911                            & POA                            & Q000                           & Police Services                & ...                            & 8506973                        &      0.00                      &   2911.35                      &     0.00                       &   2911.35                      &     0.00                       &     0.00                       &     0.00                       &     0.00                       &   2911.35                     \\\\\n",
       "\\end{tabular}\n"
      ],
      "text/markdown": [
       "\n",
       "| Year.Type | Year | Organization.Group.Code | Organization.Group | Department.Code | Department | Union.Code | Union | Job.Family.Code | Job.Family | ... | Employee.Identifier | Salaries | Overtime | Other.Salaries | Total.Salary | Retirement | Health.and.Dental | Other.Benefits | Total.Benefits | Total.Compensation |\n",
       "|---|---|---|---|---|---|---|---|---|---|---|---|---|---|---|---|---|---|---|---|---|\n",
       "| Calendar                       | 2028                           | 7                              | General City Responsibilities  | 229259                         |                                | 792                            | Utd Pub EmpL790 SEIU-Crt Clrks | 0000                           | Untitled                       | ...                            | 8540990                        |    674.28                      |      0.00                      |     5.76                       |    680.04                      |   130.91                       |     0.00                       |    53.86                       |   184.77                       |    864.81                      |\n",
       "| Calendar                       | 2028                           | 1                              | Public Protection              | CRT                            |                                | 792                            | Utd Pub EmpL790 SEIU-Crt Clrks | 0000                           | Untitled                       | ...                            | 8540990                        |    674.28                      |      0.00                      |     5.76                       |    680.04                      |   130.91                       |     0.00                       |    53.86                       |   184.77                       |    864.81                      |\n",
       "| Fiscal                         | 2028                           | 1                              | Public Protection              | CRT                            |                                | 792                            | Utd Pub EmpL790 SEIU-Crt Clrks | 0000                           | Untitled                       | ...                            | 8540990                        |    674.28                      |      0.00                      |     5.76                       |    680.04                      |   130.91                       |     0.00                       |    53.86                       |   184.77                       |    864.81                      |\n",
       "| Calendar                       | 2019                           | 7                              | General City Responsibilities  | 232108                         |                                | 911                            | POA                            | Q000                           | Police Services                | ...                            | 8577148                        | 124709.01                      | 100499.62                      |  5501.78                       | 230710.41                      | 23271.86                       | 14293.60                       |  3934.00                       | 55975.56                       | 286685.97                      |\n",
       "| Calendar                       | 2019                           | 1                              | Public Protection              | DAT                            |                                | 311                            | Municipal Attorneys Assoc      | 8100                           | Legal & Court                  | ...                            | 8603109                        | 155489.01                      |      0.00                      |  1500.00                       | 156989.01                      | 29239.75                       | 14308.46                       | 11100.60                       | 69326.83                       | 226315.84                      |\n",
       "| Calendar                       | 2019                           | 7                              | General City Responsibilities  | 102644                         |                                | 130                            | Auto Machinist, Local 1414     | 7300                           | Journeyman Trade               | ...                            | 8547213                        |  69490.84                      |  34969.05                      | 13344.53                       | 117804.42                      | 16424.93                       | 14308.44                       |  9651.75                       | 48573.42                       | 166377.84                      |\n",
       "| Calendar                       | 2019                           | 7                              | General City Responsibilities  | DEM                            |                                | 790                            | SEIU, Local 1021, Misc         | 8200                           | Protection & Apprehension      | ...                            | 8544058                        |  57062.72                      |   6033.18                      |  1192.00                       |  64287.90                      | 11851.05                       | 14308.40                       |  5473.16                       | 33664.43                       |  97952.33                      |\n",
       "| Calendar                       | 2019                           | 7                              | General City Responsibilities  | 102644                         |                                | 253                            | TWU, Local 250-A, TransitOpr   | 9100                           | Street Transit                 | ...                            | 8504938                        |  74231.85                      |  22440.63                      |  3619.49                       | 100291.97                      | 14778.60                       | 14634.18                       |  7600.99                       | 52233.11                       | 152525.08                      |\n",
       "| Calendar                       | 2019                           | 4                              | Community Health               | DPH                            |                                | 858                            | Teamsters, Local 856, Spv RN   | 2300                           | Nursing                        | ...                            | 8559329                        |  22348.10                      |   5032.61                      |  1755.83                       |  29136.54                      |  4488.15                       |     0.00                       |  1739.06                       |  6227.21                       |  35363.75                      |\n",
       "| Calendar                       | 2019                           | 1                              | Public Protection              | POL                            |                                | 911                            | POA                            | Q000                           | Police Services                | ...                            | 8506973                        |      0.00                      |   2911.35                      |     0.00                       |   2911.35                      |     0.00                       |     0.00                       |     0.00                       |     0.00                       |   2911.35                      |\n",
       "\n"
      ],
      "text/plain": [
       "   Year.Type Year Organization.Group.Code Organization.Group           \n",
       "1  Calendar  2028 7                       General City Responsibilities\n",
       "2  Calendar  2028 1                       Public Protection            \n",
       "3  Fiscal    2028 1                       Public Protection            \n",
       "4  Calendar  2019 7                       General City Responsibilities\n",
       "5  Calendar  2019 1                       Public Protection            \n",
       "6  Calendar  2019 7                       General City Responsibilities\n",
       "7  Calendar  2019 7                       General City Responsibilities\n",
       "8  Calendar  2019 7                       General City Responsibilities\n",
       "9  Calendar  2019 4                       Community Health             \n",
       "10 Calendar  2019 1                       Public Protection            \n",
       "   Department.Code Department Union.Code Union                         \n",
       "1  229259                     792        Utd Pub EmpL790 SEIU-Crt Clrks\n",
       "2  CRT                        792        Utd Pub EmpL790 SEIU-Crt Clrks\n",
       "3  CRT                        792        Utd Pub EmpL790 SEIU-Crt Clrks\n",
       "4  232108                     911        POA                           \n",
       "5  DAT                        311        Municipal Attorneys Assoc     \n",
       "6  102644                     130        Auto Machinist, Local 1414    \n",
       "7  DEM                        790        SEIU, Local 1021, Misc        \n",
       "8  102644                     253        TWU, Local 250-A, TransitOpr  \n",
       "9  DPH                        858        Teamsters, Local 856, Spv RN  \n",
       "10 POL                        911        POA                           \n",
       "   Job.Family.Code Job.Family                ... Employee.Identifier Salaries \n",
       "1  0000            Untitled                  ... 8540990                674.28\n",
       "2  0000            Untitled                  ... 8540990                674.28\n",
       "3  0000            Untitled                  ... 8540990                674.28\n",
       "4  Q000            Police Services           ... 8577148             124709.01\n",
       "5  8100            Legal & Court             ... 8603109             155489.01\n",
       "6  7300            Journeyman Trade          ... 8547213              69490.84\n",
       "7  8200            Protection & Apprehension ... 8544058              57062.72\n",
       "8  9100            Street Transit            ... 8504938              74231.85\n",
       "9  2300            Nursing                   ... 8559329              22348.10\n",
       "10 Q000            Police Services           ... 8506973                  0.00\n",
       "   Overtime  Other.Salaries Total.Salary Retirement Health.and.Dental\n",
       "1       0.00     5.76          680.04      130.91       0.00         \n",
       "2       0.00     5.76          680.04      130.91       0.00         \n",
       "3       0.00     5.76          680.04      130.91       0.00         \n",
       "4  100499.62  5501.78       230710.41    23271.86   14293.60         \n",
       "5       0.00  1500.00       156989.01    29239.75   14308.46         \n",
       "6   34969.05 13344.53       117804.42    16424.93   14308.44         \n",
       "7    6033.18  1192.00        64287.90    11851.05   14308.40         \n",
       "8   22440.63  3619.49       100291.97    14778.60   14634.18         \n",
       "9    5032.61  1755.83        29136.54     4488.15       0.00         \n",
       "10   2911.35     0.00         2911.35        0.00       0.00         \n",
       "   Other.Benefits Total.Benefits Total.Compensation\n",
       "1     53.86         184.77          864.81         \n",
       "2     53.86         184.77          864.81         \n",
       "3     53.86         184.77          864.81         \n",
       "4   3934.00       55975.56       286685.97         \n",
       "5  11100.60       69326.83       226315.84         \n",
       "6   9651.75       48573.42       166377.84         \n",
       "7   5473.16       33664.43        97952.33         \n",
       "8   7600.99       52233.11       152525.08         \n",
       "9   1739.06        6227.21        35363.75         \n",
       "10     0.00           0.00         2911.35         "
      ]
     },
     "metadata": {},
     "output_type": "display_data"
    }
   ],
   "source": [
    "head(main,n=10)"
   ]
  },
  {
   "cell_type": "markdown",
   "metadata": {},
   "source": [
    "2.2 The above table shows the first 10 rows of the main dataset."
   ]
  },
  {
   "cell_type": "code",
   "execution_count": 4,
   "metadata": {},
   "outputs": [
    {
     "data": {
      "text/html": [
       "54096.8067953818"
      ],
      "text/latex": [
       "54096.8067953818"
      ],
      "text/markdown": [
       "54096.8067953818"
      ],
      "text/plain": [
       "[1] 54096.81"
      ]
     },
     "metadata": {},
     "output_type": "display_data"
    },
    {
     "data": {
      "text/html": [
       "645739.46"
      ],
      "text/latex": [
       "645739.46"
      ],
      "text/markdown": [
       "645739.46"
      ],
      "text/plain": [
       "[1] 645739.5"
      ]
     },
     "metadata": {},
     "output_type": "display_data"
    }
   ],
   "source": [
    "mean(main$Salaries)\n",
    "maxsalary<-max(main$Salaries)\n",
    "maxsalary\n"
   ]
  },
  {
   "cell_type": "markdown",
   "metadata": {},
   "source": [
    "2.3 Above function is used to calculate the mean value of salaries for all employees and the maximum value in the column that is the highest salary paid to any employee."
   ]
  },
  {
   "cell_type": "code",
   "execution_count": 5,
   "metadata": {
    "scrolled": false
   },
   "outputs": [
    {
     "data": {
      "text/html": [
       "22"
      ],
      "text/latex": [
       "22"
      ],
      "text/markdown": [
       "22"
      ],
      "text/plain": [
       "[1] 22"
      ]
     },
     "metadata": {},
     "output_type": "display_data"
    },
    {
     "data": {
      "text/html": [
       "835307"
      ],
      "text/latex": [
       "835307"
      ],
      "text/markdown": [
       "835307"
      ],
      "text/plain": [
       "[1] 835307"
      ]
     },
     "metadata": {},
     "output_type": "display_data"
    }
   ],
   "source": [
    "ncol(main)\n",
    "nrow(main)"
   ]
  },
  {
   "cell_type": "markdown",
   "metadata": {},
   "source": [
    "2.4 It gives the information about the total column and total rows in the given dataset."
   ]
  },
  {
   "cell_type": "markdown",
   "metadata": {},
   "source": [
    "# 3. Data Subset"
   ]
  },
  {
   "cell_type": "markdown",
   "metadata": {},
   "source": [
    "Subsets of Data: Produce 5 different subsets relevant to the newspaper, containing distinct rows and columns. Your results should be relevant help the newspaper show the facts of employment."
   ]
  },
  {
   "cell_type": "code",
   "execution_count": 6,
   "metadata": {
    "scrolled": true
   },
   "outputs": [
    {
     "data": {
      "text/html": [
       "<table>\n",
       "<thead><tr><th></th><th scope=col>Department.Code</th><th scope=col>Organization.Group</th><th scope=col>Organization.Group.Code</th></tr></thead>\n",
       "<tbody>\n",
       "\t<tr><th scope=row>835298</th><td>POL                                    </td><td>Public Protection                      </td><td>1                                      </td></tr>\n",
       "\t<tr><th scope=row>835299</th><td>TTX                                                                                </td><td><span style=white-space:pre-wrap>General Administration &amp; Finance       </span></td><td>6                                                                                  </td></tr>\n",
       "\t<tr><th scope=row>835300</th><td>PUC                                        </td><td>Public Works, Transportation &amp; Commerce</td><td>2                                          </td></tr>\n",
       "\t<tr><th scope=row>835301</th><td>CON                                                                                </td><td><span style=white-space:pre-wrap>General Administration &amp; Finance       </span></td><td>6                                                                                  </td></tr>\n",
       "\t<tr><th scope=row>835302</th><td>AIR                                        </td><td>Public Works, Transportation &amp; Commerce</td><td>2                                          </td></tr>\n",
       "\t<tr><th scope=row>835303</th><td>ASR                                                                                </td><td><span style=white-space:pre-wrap>General Administration &amp; Finance       </span></td><td>6                                                                                  </td></tr>\n",
       "\t<tr><th scope=row>835304</th><td>REC                                                                                </td><td><span style=white-space:pre-wrap>Culture &amp; Recreation                   </span></td><td>5                                                                                  </td></tr>\n",
       "\t<tr><th scope=row>835305</th><td>MTA                                        </td><td>Public Works, Transportation &amp; Commerce</td><td>2                                          </td></tr>\n",
       "\t<tr><th scope=row>835306</th><td>POL                                    </td><td>Public Protection                      </td><td>1                                      </td></tr>\n",
       "\t<tr><th scope=row>835307</th><td>DBI                                        </td><td>Public Works, Transportation &amp; Commerce</td><td>2                                          </td></tr>\n",
       "</tbody>\n",
       "</table>\n"
      ],
      "text/latex": [
       "\\begin{tabular}{r|lll}\n",
       "  & Department.Code & Organization.Group & Organization.Group.Code\\\\\n",
       "\\hline\n",
       "\t835298 & POL                                     & Public Protection                       & 1                                      \\\\\n",
       "\t835299 & TTX                                       & General Administration \\& Finance        & 6                                        \\\\\n",
       "\t835300 & PUC                                       & Public Works, Transportation \\& Commerce & 2                                        \\\\\n",
       "\t835301 & CON                                       & General Administration \\& Finance        & 6                                        \\\\\n",
       "\t835302 & AIR                                       & Public Works, Transportation \\& Commerce & 2                                        \\\\\n",
       "\t835303 & ASR                                       & General Administration \\& Finance        & 6                                        \\\\\n",
       "\t835304 & REC                                       & Culture \\& Recreation                    & 5                                        \\\\\n",
       "\t835305 & MTA                                       & Public Works, Transportation \\& Commerce & 2                                        \\\\\n",
       "\t835306 & POL                                     & Public Protection                       & 1                                      \\\\\n",
       "\t835307 & DBI                                       & Public Works, Transportation \\& Commerce & 2                                        \\\\\n",
       "\\end{tabular}\n"
      ],
      "text/markdown": [
       "\n",
       "| <!--/--> | Department.Code | Organization.Group | Organization.Group.Code |\n",
       "|---|---|---|---|\n",
       "| 835298 | POL                                     | Public Protection                       | 1                                       |\n",
       "| 835299 | TTX                                     | General Administration & Finance        | 6                                       |\n",
       "| 835300 | PUC                                     | Public Works, Transportation & Commerce | 2                                       |\n",
       "| 835301 | CON                                     | General Administration & Finance        | 6                                       |\n",
       "| 835302 | AIR                                     | Public Works, Transportation & Commerce | 2                                       |\n",
       "| 835303 | ASR                                     | General Administration & Finance        | 6                                       |\n",
       "| 835304 | REC                                     | Culture & Recreation                    | 5                                       |\n",
       "| 835305 | MTA                                     | Public Works, Transportation & Commerce | 2                                       |\n",
       "| 835306 | POL                                     | Public Protection                       | 1                                       |\n",
       "| 835307 | DBI                                     | Public Works, Transportation & Commerce | 2                                       |\n",
       "\n"
      ],
      "text/plain": [
       "       Department.Code Organization.Group                     \n",
       "835298 POL             Public Protection                      \n",
       "835299 TTX             General Administration & Finance       \n",
       "835300 PUC             Public Works, Transportation & Commerce\n",
       "835301 CON             General Administration & Finance       \n",
       "835302 AIR             Public Works, Transportation & Commerce\n",
       "835303 ASR             General Administration & Finance       \n",
       "835304 REC             Culture & Recreation                   \n",
       "835305 MTA             Public Works, Transportation & Commerce\n",
       "835306 POL             Public Protection                      \n",
       "835307 DBI             Public Works, Transportation & Commerce\n",
       "       Organization.Group.Code\n",
       "835298 1                      \n",
       "835299 6                      \n",
       "835300 2                      \n",
       "835301 6                      \n",
       "835302 2                      \n",
       "835303 6                      \n",
       "835304 5                      \n",
       "835305 2                      \n",
       "835306 1                      \n",
       "835307 2                      "
      ]
     },
     "metadata": {},
     "output_type": "display_data"
    }
   ],
   "source": [
    "subset1<-subset(main, \n",
    "                select=c(Department.Code,Organization.Group,Organization.Group.Code) )\n",
    "tail(subset1,n=10)"
   ]
  },
  {
   "cell_type": "markdown",
   "metadata": {},
   "source": [
    "Subset1 gives information about the Organization and its department code and organization group code."
   ]
  },
  {
   "cell_type": "code",
   "execution_count": 7,
   "metadata": {
    "scrolled": true
   },
   "outputs": [
    {
     "data": {
      "text/html": [
       "<table>\n",
       "<thead><tr><th></th><th scope=col>Year.Type</th><th scope=col>Year</th><th scope=col>Job</th><th scope=col>Total.Compensation</th></tr></thead>\n",
       "<tbody>\n",
       "\t<tr><th scope=row>4</th><td>Calendar                 </td><td>2019                     </td><td>Police Officer 3         </td><td>286685.97                </td></tr>\n",
       "\t<tr><th scope=row>5</th><td>Calendar                 </td><td>2019                     </td><td>Attorney (Civil/Criminal)</td><td>226315.84                </td></tr>\n",
       "\t<tr><th scope=row>6</th><td>Calendar                 </td><td>2019                     </td><td>Automotive Machinist     </td><td>166377.84                </td></tr>\n",
       "\t<tr><th scope=row>7</th><td>Calendar                 </td><td>2019                     </td><td>Public SafetyComm Disp   </td><td> 97952.33                </td></tr>\n",
       "\t<tr><th scope=row>8</th><td>Calendar                 </td><td>2019                     </td><td>Transit Operator         </td><td>152525.08                </td></tr>\n",
       "\t<tr><th scope=row>9</th><td>Calendar                 </td><td>2019                     </td><td>Nursing Supervisor       </td><td> 35363.75                </td></tr>\n",
       "</tbody>\n",
       "</table>\n"
      ],
      "text/latex": [
       "\\begin{tabular}{r|llll}\n",
       "  & Year.Type & Year & Job & Total.Compensation\\\\\n",
       "\\hline\n",
       "\t4 & Calendar                  & 2019                      & Police Officer 3          & 286685.97                \\\\\n",
       "\t5 & Calendar                  & 2019                      & Attorney (Civil/Criminal) & 226315.84                \\\\\n",
       "\t6 & Calendar                  & 2019                      & Automotive Machinist      & 166377.84                \\\\\n",
       "\t7 & Calendar                  & 2019                      & Public SafetyComm Disp    &  97952.33                \\\\\n",
       "\t8 & Calendar                  & 2019                      & Transit Operator          & 152525.08                \\\\\n",
       "\t9 & Calendar                  & 2019                      & Nursing Supervisor        &  35363.75                \\\\\n",
       "\\end{tabular}\n"
      ],
      "text/markdown": [
       "\n",
       "| <!--/--> | Year.Type | Year | Job | Total.Compensation |\n",
       "|---|---|---|---|---|\n",
       "| 4 | Calendar                  | 2019                      | Police Officer 3          | 286685.97                 |\n",
       "| 5 | Calendar                  | 2019                      | Attorney (Civil/Criminal) | 226315.84                 |\n",
       "| 6 | Calendar                  | 2019                      | Automotive Machinist      | 166377.84                 |\n",
       "| 7 | Calendar                  | 2019                      | Public SafetyComm Disp    |  97952.33                 |\n",
       "| 8 | Calendar                  | 2019                      | Transit Operator          | 152525.08                 |\n",
       "| 9 | Calendar                  | 2019                      | Nursing Supervisor        |  35363.75                 |\n",
       "\n"
      ],
      "text/plain": [
       "  Year.Type Year Job                       Total.Compensation\n",
       "4 Calendar  2019 Police Officer 3          286685.97         \n",
       "5 Calendar  2019 Attorney (Civil/Criminal) 226315.84         \n",
       "6 Calendar  2019 Automotive Machinist      166377.84         \n",
       "7 Calendar  2019 Public SafetyComm Disp     97952.33         \n",
       "8 Calendar  2019 Transit Operator          152525.08         \n",
       "9 Calendar  2019 Nursing Supervisor         35363.75         "
      ]
     },
     "metadata": {},
     "output_type": "display_data"
    }
   ],
   "source": [
    "subset2<-subset(main, main$Total.Compensation >= 10000, select=c(Year.Type,Year,Job,Total.Compensation ) )\n",
    "head(subset2)"
   ]
  },
  {
   "cell_type": "markdown",
   "metadata": {},
   "source": [
    "Subset2 gives infromation about the employee's job title and its total compensation."
   ]
  },
  {
   "cell_type": "code",
   "execution_count": 8,
   "metadata": {
    "scrolled": true
   },
   "outputs": [
    {
     "data": {
      "text/html": [
       "<table>\n",
       "<thead><tr><th></th><th scope=col>Year.Type</th><th scope=col>Year</th><th scope=col>Total.Benefits</th><th scope=col>Total.Salary</th></tr></thead>\n",
       "<tbody>\n",
       "\t<tr><th scope=row>835282</th><td>Fiscal  </td><td>2013    </td><td> 5471.67</td><td>12505.50</td></tr>\n",
       "\t<tr><th scope=row>835284</th><td>Fiscal  </td><td>2013    </td><td> 8184.25</td><td>19511.40</td></tr>\n",
       "\t<tr><th scope=row>835286</th><td>Fiscal  </td><td>2013    </td><td>25746.54</td><td>44749.09</td></tr>\n",
       "\t<tr><th scope=row>835290</th><td>Fiscal  </td><td>2013    </td><td> 9139.89</td><td>26488.00</td></tr>\n",
       "\t<tr><th scope=row>835293</th><td>Fiscal  </td><td>2013    </td><td>13020.15</td><td>15059.42</td></tr>\n",
       "\t<tr><th scope=row>835294</th><td>Fiscal  </td><td>2013    </td><td>20163.85</td><td>43579.75</td></tr>\n",
       "\t<tr><th scope=row>835295</th><td>Fiscal  </td><td>2013    </td><td> 2894.11</td><td> 5811.70</td></tr>\n",
       "\t<tr><th scope=row>835297</th><td>Fiscal  </td><td>2013    </td><td>20566.35</td><td>42876.79</td></tr>\n",
       "\t<tr><th scope=row>835302</th><td>Fiscal  </td><td>2013    </td><td> 5448.12</td><td>12592.35</td></tr>\n",
       "\t<tr><th scope=row>835303</th><td>Fiscal  </td><td>2013    </td><td>17266.05</td><td>36688.48</td></tr>\n",
       "</tbody>\n",
       "</table>\n"
      ],
      "text/latex": [
       "\\begin{tabular}{r|llll}\n",
       "  & Year.Type & Year & Total.Benefits & Total.Salary\\\\\n",
       "\\hline\n",
       "\t835282 & Fiscal   & 2013     &  5471.67 & 12505.50\\\\\n",
       "\t835284 & Fiscal   & 2013     &  8184.25 & 19511.40\\\\\n",
       "\t835286 & Fiscal   & 2013     & 25746.54 & 44749.09\\\\\n",
       "\t835290 & Fiscal   & 2013     &  9139.89 & 26488.00\\\\\n",
       "\t835293 & Fiscal   & 2013     & 13020.15 & 15059.42\\\\\n",
       "\t835294 & Fiscal   & 2013     & 20163.85 & 43579.75\\\\\n",
       "\t835295 & Fiscal   & 2013     &  2894.11 &  5811.70\\\\\n",
       "\t835297 & Fiscal   & 2013     & 20566.35 & 42876.79\\\\\n",
       "\t835302 & Fiscal   & 2013     &  5448.12 & 12592.35\\\\\n",
       "\t835303 & Fiscal   & 2013     & 17266.05 & 36688.48\\\\\n",
       "\\end{tabular}\n"
      ],
      "text/markdown": [
       "\n",
       "| <!--/--> | Year.Type | Year | Total.Benefits | Total.Salary |\n",
       "|---|---|---|---|---|\n",
       "| 835282 | Fiscal   | 2013     |  5471.67 | 12505.50 |\n",
       "| 835284 | Fiscal   | 2013     |  8184.25 | 19511.40 |\n",
       "| 835286 | Fiscal   | 2013     | 25746.54 | 44749.09 |\n",
       "| 835290 | Fiscal   | 2013     |  9139.89 | 26488.00 |\n",
       "| 835293 | Fiscal   | 2013     | 13020.15 | 15059.42 |\n",
       "| 835294 | Fiscal   | 2013     | 20163.85 | 43579.75 |\n",
       "| 835295 | Fiscal   | 2013     |  2894.11 |  5811.70 |\n",
       "| 835297 | Fiscal   | 2013     | 20566.35 | 42876.79 |\n",
       "| 835302 | Fiscal   | 2013     |  5448.12 | 12592.35 |\n",
       "| 835303 | Fiscal   | 2013     | 17266.05 | 36688.48 |\n",
       "\n"
      ],
      "text/plain": [
       "       Year.Type Year Total.Benefits Total.Salary\n",
       "835282 Fiscal    2013  5471.67       12505.50    \n",
       "835284 Fiscal    2013  8184.25       19511.40    \n",
       "835286 Fiscal    2013 25746.54       44749.09    \n",
       "835290 Fiscal    2013  9139.89       26488.00    \n",
       "835293 Fiscal    2013 13020.15       15059.42    \n",
       "835294 Fiscal    2013 20163.85       43579.75    \n",
       "835295 Fiscal    2013  2894.11        5811.70    \n",
       "835297 Fiscal    2013 20566.35       42876.79    \n",
       "835302 Fiscal    2013  5448.12       12592.35    \n",
       "835303 Fiscal    2013 17266.05       36688.48    "
      ]
     },
     "metadata": {},
     "output_type": "display_data"
    }
   ],
   "source": [
    "subset3<-subset(main, main$Total.Salary <= 50000,select=c(Year.Type,Year,Total.Benefits,Total.Salary) )\n",
    "tail(subset3,n=10)"
   ]
  },
  {
   "cell_type": "markdown",
   "metadata": {},
   "source": [
    "Subset3 helps to understand the employee's total benefits and total salary."
   ]
  },
  {
   "cell_type": "code",
   "execution_count": 9,
   "metadata": {
    "scrolled": true
   },
   "outputs": [
    {
     "data": {
      "text/html": [
       "<table>\n",
       "<thead><tr><th></th><th scope=col>Year.Type</th><th scope=col>Year</th><th scope=col>Retirement</th></tr></thead>\n",
       "<tbody>\n",
       "\t<tr><th scope=row>784</th><td>Calendar</td><td>2019    </td><td>50024.82</td></tr>\n",
       "\t<tr><th scope=row>2060</th><td>Calendar</td><td>2019    </td><td>52711.38</td></tr>\n",
       "\t<tr><th scope=row>2555</th><td>Calendar</td><td>2019    </td><td>59723.48</td></tr>\n",
       "\t<tr><th scope=row>2633</th><td>Calendar</td><td>2019    </td><td>55332.78</td></tr>\n",
       "\t<tr><th scope=row>2824</th><td>Calendar</td><td>2019    </td><td>56774.00</td></tr>\n",
       "\t<tr><th scope=row>3150</th><td>Calendar</td><td>2019    </td><td>52337.39</td></tr>\n",
       "</tbody>\n",
       "</table>\n"
      ],
      "text/latex": [
       "\\begin{tabular}{r|lll}\n",
       "  & Year.Type & Year & Retirement\\\\\n",
       "\\hline\n",
       "\t784 & Calendar & 2019     & 50024.82\\\\\n",
       "\t2060 & Calendar & 2019     & 52711.38\\\\\n",
       "\t2555 & Calendar & 2019     & 59723.48\\\\\n",
       "\t2633 & Calendar & 2019     & 55332.78\\\\\n",
       "\t2824 & Calendar & 2019     & 56774.00\\\\\n",
       "\t3150 & Calendar & 2019     & 52337.39\\\\\n",
       "\\end{tabular}\n"
      ],
      "text/markdown": [
       "\n",
       "| <!--/--> | Year.Type | Year | Retirement |\n",
       "|---|---|---|---|\n",
       "| 784 | Calendar | 2019     | 50024.82 |\n",
       "| 2060 | Calendar | 2019     | 52711.38 |\n",
       "| 2555 | Calendar | 2019     | 59723.48 |\n",
       "| 2633 | Calendar | 2019     | 55332.78 |\n",
       "| 2824 | Calendar | 2019     | 56774.00 |\n",
       "| 3150 | Calendar | 2019     | 52337.39 |\n",
       "\n"
      ],
      "text/plain": [
       "     Year.Type Year Retirement\n",
       "784  Calendar  2019 50024.82  \n",
       "2060 Calendar  2019 52711.38  \n",
       "2555 Calendar  2019 59723.48  \n",
       "2633 Calendar  2019 55332.78  \n",
       "2824 Calendar  2019 56774.00  \n",
       "3150 Calendar  2019 52337.39  "
      ]
     },
     "metadata": {},
     "output_type": "display_data"
    }
   ],
   "source": [
    "subset4<-subset(main, main$Retirement >= 50000, select=c(Year.Type,Year,Retirement) )\n",
    "head(subset4)"
   ]
  },
  {
   "cell_type": "markdown",
   "metadata": {},
   "source": [
    "Subset4 allows to calculate the total amount spent on retirement for each employee every year whose annual retirement is aboove 50000."
   ]
  },
  {
   "cell_type": "code",
   "execution_count": 10,
   "metadata": {
    "scrolled": false
   },
   "outputs": [
    {
     "data": {
      "text/html": [
       "<table>\n",
       "<thead><tr><th></th><th scope=col>Year.Type</th><th scope=col>Year</th><th scope=col>Other.Salaries</th><th scope=col>Other.Benefits</th></tr></thead>\n",
       "<tbody>\n",
       "\t<tr><th scope=row>1858</th><td>Calendar </td><td>2019     </td><td> 15574.04</td><td>30897.31 </td></tr>\n",
       "\t<tr><th scope=row>2580</th><td>Calendar </td><td>2019     </td><td> 23474.71</td><td>20351.26 </td></tr>\n",
       "\t<tr><th scope=row>7362</th><td>Calendar </td><td>2019     </td><td>160358.03</td><td>28051.81 </td></tr>\n",
       "\t<tr><th scope=row>10553</th><td>Calendar </td><td>2019     </td><td>160358.03</td><td>28051.81 </td></tr>\n",
       "\t<tr><th scope=row>10901</th><td>Calendar </td><td>2019     </td><td> 55899.34</td><td>19889.74 </td></tr>\n",
       "\t<tr><th scope=row>14841</th><td>Calendar </td><td>2019     </td><td> 25067.51</td><td>20324.40 </td></tr>\n",
       "</tbody>\n",
       "</table>\n"
      ],
      "text/latex": [
       "\\begin{tabular}{r|llll}\n",
       "  & Year.Type & Year & Other.Salaries & Other.Benefits\\\\\n",
       "\\hline\n",
       "\t1858 & Calendar  & 2019      &  15574.04 & 30897.31 \\\\\n",
       "\t2580 & Calendar  & 2019      &  23474.71 & 20351.26 \\\\\n",
       "\t7362 & Calendar  & 2019      & 160358.03 & 28051.81 \\\\\n",
       "\t10553 & Calendar  & 2019      & 160358.03 & 28051.81 \\\\\n",
       "\t10901 & Calendar  & 2019      &  55899.34 & 19889.74 \\\\\n",
       "\t14841 & Calendar  & 2019      &  25067.51 & 20324.40 \\\\\n",
       "\\end{tabular}\n"
      ],
      "text/markdown": [
       "\n",
       "| <!--/--> | Year.Type | Year | Other.Salaries | Other.Benefits |\n",
       "|---|---|---|---|---|\n",
       "| 1858 | Calendar  | 2019      |  15574.04 | 30897.31  |\n",
       "| 2580 | Calendar  | 2019      |  23474.71 | 20351.26  |\n",
       "| 7362 | Calendar  | 2019      | 160358.03 | 28051.81  |\n",
       "| 10553 | Calendar  | 2019      | 160358.03 | 28051.81  |\n",
       "| 10901 | Calendar  | 2019      |  55899.34 | 19889.74  |\n",
       "| 14841 | Calendar  | 2019      |  25067.51 | 20324.40  |\n",
       "\n"
      ],
      "text/plain": [
       "      Year.Type Year Other.Salaries Other.Benefits\n",
       "1858  Calendar  2019  15574.04      30897.31      \n",
       "2580  Calendar  2019  23474.71      20351.26      \n",
       "7362  Calendar  2019 160358.03      28051.81      \n",
       "10553 Calendar  2019 160358.03      28051.81      \n",
       "10901 Calendar  2019  55899.34      19889.74      \n",
       "14841 Calendar  2019  25067.51      20324.40      "
      ]
     },
     "metadata": {},
     "output_type": "display_data"
    }
   ],
   "source": [
    "subset5<-subset(main, main$Other.Salaries >= 15000 & main$Other.Benefits >= 15000, \n",
    "                select=c(Year.Type,Year,Other.Salaries,Other.Benefits) )\n",
    "head(subset5)"
   ]
  },
  {
   "cell_type": "markdown",
   "metadata": {},
   "source": [
    "Subset5 shows the other salaries for an employees and also tells about other benefits for an employee."
   ]
  },
  {
   "cell_type": "markdown",
   "metadata": {},
   "source": [
    "# 4.Single vector"
   ]
  },
  {
   "cell_type": "code",
   "execution_count": 11,
   "metadata": {},
   "outputs": [
    {
     "data": {
      "text/html": [
       "<table>\n",
       "<thead><tr><th scope=col>Department</th><th scope=col>n</th></tr></thead>\n",
       "<tbody>\n",
       "\t<tr><td>                             </td><td>400498                       </td></tr>\n",
       "\t<tr><td>DPH Public Health            </td><td> 94616                       </td></tr>\n",
       "\t<tr><td>MTA Municipal Transprtn Agncy</td><td> 63852                       </td></tr>\n",
       "\t<tr><td>HSA Human Services Agency    </td><td> 35392                       </td></tr>\n",
       "\t<tr><td>POL Police                   </td><td> 34548                       </td></tr>\n",
       "\t<tr><td>REC Recreation &amp; Park Commsn </td><td> 24136                           </td></tr>\n",
       "</tbody>\n",
       "</table>\n"
      ],
      "text/latex": [
       "\\begin{tabular}{r|ll}\n",
       " Department & n\\\\\n",
       "\\hline\n",
       "\t                               & 400498                       \\\\\n",
       "\t DPH Public Health             &  94616                       \\\\\n",
       "\t MTA Municipal Transprtn Agncy &  63852                       \\\\\n",
       "\t HSA Human Services Agency     &  35392                       \\\\\n",
       "\t POL Police                    &  34548                       \\\\\n",
       "\t REC Recreation \\& Park Commsn  &  24136                         \\\\\n",
       "\\end{tabular}\n"
      ],
      "text/markdown": [
       "\n",
       "| Department | n |\n",
       "|---|---|\n",
       "|                               | 400498                        |\n",
       "| DPH Public Health             |  94616                        |\n",
       "| MTA Municipal Transprtn Agncy |  63852                        |\n",
       "| HSA Human Services Agency     |  35392                        |\n",
       "| POL Police                    |  34548                        |\n",
       "| REC Recreation & Park Commsn  |  24136                        |\n",
       "\n"
      ],
      "text/plain": [
       "  Department                    n     \n",
       "1                               400498\n",
       "2 DPH Public Health              94616\n",
       "3 MTA Municipal Transprtn Agncy  63852\n",
       "4 HSA Human Services Agency      35392\n",
       "5 POL Police                     34548\n",
       "6 REC Recreation & Park Commsn   24136"
      ]
     },
     "metadata": {},
     "output_type": "display_data"
    }
   ],
   "source": [
    "\n",
    "Jobs_by_department<-main %>% \n",
    "  select(Department) %>% \n",
    "  group_by(Department) %>% \n",
    "  count(Department) %>% \n",
    "  arrange(desc(n)) \n",
    "head(Jobs_by_department,n=6)\n"
   ]
  },
  {
   "cell_type": "code",
   "execution_count": 12,
   "metadata": {
    "scrolled": true
   },
   "outputs": [
    {
     "name": "stdout",
     "output_type": "stream",
     "text": [
      "[1] Transit Operator Special Nurse    Registered Nurse Firefighter     \n",
      "[5] Custodian       \n"
     ]
    }
   ],
   "source": [
    "Jobs_title<-main %>% \n",
    "  select(Job) %>% \n",
    "  group_by(Job) %>% \n",
    "  count(Job) %>% \n",
    "  arrange(desc(n)) \n",
    "top5_higest_number_of_jobs<-head(Jobs_title,n=5)\n",
    "#top5_higest_number_of_jobs\n",
    "top_jobtitle_vector <- top5_higest_number_of_jobs$Job\n",
    "print(top_jobtitle_vector,max.levels = 0)\n",
    "#c('Transit Operator','Special Nurse','Registered Nurse','Firefighter','Custodian')"
   ]
  },
  {
   "cell_type": "markdown",
   "metadata": {},
   "source": [
    "A vector is used to store top 5 job titles with highest number of employees. This can be the important finding to publish in newspaper."
   ]
  },
  {
   "cell_type": "markdown",
   "metadata": {},
   "source": [
    "# 5. Five Different Lists"
   ]
  },
  {
   "cell_type": "markdown",
   "metadata": {},
   "source": [
    "5 different Lists: Use R to store a column of your choice in 5 different lists. Find a way to make it business oriented by explaining your list in a relevant format."
   ]
  },
  {
   "cell_type": "markdown",
   "metadata": {},
   "source": [
    "Lets use lists to store some of the jobs title from few departments seperately. That will help to understand what job title comes under which specific department. "
   ]
  },
  {
   "cell_type": "code",
   "execution_count": 13,
   "metadata": {
    "scrolled": true
   },
   "outputs": [
    {
     "data": {
      "text/html": [
       "<table>\n",
       "<thead><tr><th></th><th scope=col>Job</th></tr></thead>\n",
       "<tbody>\n",
       "\t<tr><th scope=row>63850</th><td>Electrical Transit System Mech</td></tr>\n",
       "\t<tr><th scope=row>63851</th><td>Transit Operator              </td></tr>\n",
       "\t<tr><th scope=row>63852</th><td>Welder                        </td></tr>\n",
       "</tbody>\n",
       "</table>\n"
      ],
      "text/latex": [
       "\\begin{tabular}{r|l}\n",
       "  & Job\\\\\n",
       "\\hline\n",
       "\t63850 & Electrical Transit System Mech\\\\\n",
       "\t63851 & Transit Operator              \\\\\n",
       "\t63852 & Welder                        \\\\\n",
       "\\end{tabular}\n"
      ],
      "text/markdown": [
       "\n",
       "| <!--/--> | Job |\n",
       "|---|---|\n",
       "| 63850 | Electrical Transit System Mech |\n",
       "| 63851 | Transit Operator               |\n",
       "| 63852 | Welder                         |\n",
       "\n"
      ],
      "text/plain": [
       "      Job                           \n",
       "63850 Electrical Transit System Mech\n",
       "63851 Transit Operator              \n",
       "63852 Welder                        "
      ]
     },
     "metadata": {},
     "output_type": "display_data"
    }
   ],
   "source": [
    "depa=\"MTA Municipal Transprtn Agncy\"\n",
    "group1<-main %>% filter(Department == depa) %>%\n",
    "  select(Job)\n",
    "list1<-tail(group1,n=3)\n",
    "list1"
   ]
  },
  {
   "cell_type": "markdown",
   "metadata": {},
   "source": [
    "List1 is used to store the some of the job titles from department \"MTA Municipal Transprtn Agncy\"."
   ]
  },
  {
   "cell_type": "code",
   "execution_count": 14,
   "metadata": {},
   "outputs": [
    {
     "data": {
      "text/html": [
       "<table>\n",
       "<thead><tr><th scope=col>Job</th></tr></thead>\n",
       "<tbody>\n",
       "\t<tr><td>Senior Health Program Planner</td></tr>\n",
       "\t<tr><td>Registered Nurse             </td></tr>\n",
       "\t<tr><td>Eligibility Worker           </td></tr>\n",
       "</tbody>\n",
       "</table>\n"
      ],
      "text/latex": [
       "\\begin{tabular}{r|l}\n",
       " Job\\\\\n",
       "\\hline\n",
       "\t Senior Health Program Planner\\\\\n",
       "\t Registered Nurse             \\\\\n",
       "\t Eligibility Worker           \\\\\n",
       "\\end{tabular}\n"
      ],
      "text/markdown": [
       "\n",
       "| Job |\n",
       "|---|\n",
       "| Senior Health Program Planner |\n",
       "| Registered Nurse              |\n",
       "| Eligibility Worker            |\n",
       "\n"
      ],
      "text/plain": [
       "  Job                          \n",
       "1 Senior Health Program Planner\n",
       "2 Registered Nurse             \n",
       "3 Eligibility Worker           "
      ]
     },
     "metadata": {},
     "output_type": "display_data"
    }
   ],
   "source": [
    "depa=\"DPH Public Health\"\n",
    "group2<-main %>% filter(Department == depa) %>%\n",
    "  select(Job)\n",
    "list2<-head(group2,n=3)\n",
    "list2"
   ]
  },
  {
   "cell_type": "markdown",
   "metadata": {},
   "source": [
    "List2 is used to store the some of the job titles from department \"DPH Public Health\"."
   ]
  },
  {
   "cell_type": "code",
   "execution_count": 15,
   "metadata": {
    "scrolled": true
   },
   "outputs": [
    {
     "data": {
      "text/html": [
       "<table>\n",
       "<thead><tr><th scope=col>Job</th></tr></thead>\n",
       "<tbody>\n",
       "\t<tr><td>Human Services Technician </td></tr>\n",
       "\t<tr><td>Protective Services Worker</td></tr>\n",
       "\t<tr><td>Senior Eligibility Worker </td></tr>\n",
       "</tbody>\n",
       "</table>\n"
      ],
      "text/latex": [
       "\\begin{tabular}{r|l}\n",
       " Job\\\\\n",
       "\\hline\n",
       "\t Human Services Technician \\\\\n",
       "\t Protective Services Worker\\\\\n",
       "\t Senior Eligibility Worker \\\\\n",
       "\\end{tabular}\n"
      ],
      "text/markdown": [
       "\n",
       "| Job |\n",
       "|---|\n",
       "| Human Services Technician  |\n",
       "| Protective Services Worker |\n",
       "| Senior Eligibility Worker  |\n",
       "\n"
      ],
      "text/plain": [
       "  Job                       \n",
       "1 Human Services Technician \n",
       "2 Protective Services Worker\n",
       "3 Senior Eligibility Worker "
      ]
     },
     "metadata": {},
     "output_type": "display_data"
    }
   ],
   "source": [
    "depa=\"HSA Human Services Agency\"\n",
    "group3<-main %>% filter(Department == depa) %>%\n",
    "  select(Job)\n",
    "list3<-head(group3,n=3)\n",
    "list3"
   ]
  },
  {
   "cell_type": "markdown",
   "metadata": {},
   "source": [
    "List3 is used to store the some of the job titles from department \"HSA Human Services Agency\"."
   ]
  },
  {
   "cell_type": "code",
   "execution_count": 16,
   "metadata": {
    "scrolled": true
   },
   "outputs": [
    {
     "data": {
      "text/html": [
       "<table>\n",
       "<thead><tr><th></th><th scope=col>Job</th></tr></thead>\n",
       "<tbody>\n",
       "\t<tr><th scope=row>34546</th><td>Lieutenant 3    </td></tr>\n",
       "\t<tr><th scope=row>34547</th><td>Police Officer 3</td></tr>\n",
       "\t<tr><th scope=row>34548</th><td>Inspector 3     </td></tr>\n",
       "</tbody>\n",
       "</table>\n"
      ],
      "text/latex": [
       "\\begin{tabular}{r|l}\n",
       "  & Job\\\\\n",
       "\\hline\n",
       "\t34546 & Lieutenant 3    \\\\\n",
       "\t34547 & Police Officer 3\\\\\n",
       "\t34548 & Inspector 3     \\\\\n",
       "\\end{tabular}\n"
      ],
      "text/markdown": [
       "\n",
       "| <!--/--> | Job |\n",
       "|---|---|\n",
       "| 34546 | Lieutenant 3     |\n",
       "| 34547 | Police Officer 3 |\n",
       "| 34548 | Inspector 3      |\n",
       "\n"
      ],
      "text/plain": [
       "      Job             \n",
       "34546 Lieutenant 3    \n",
       "34547 Police Officer 3\n",
       "34548 Inspector 3     "
      ]
     },
     "metadata": {},
     "output_type": "display_data"
    }
   ],
   "source": [
    "depa=\"POL Police\"\n",
    "group4<-main %>% filter(Department == depa) %>%\n",
    "  select(Job)\n",
    "list4<-tail(group4,n=3)\n",
    "list4"
   ]
  },
  {
   "cell_type": "markdown",
   "metadata": {},
   "source": [
    "List4 is used to store the some of the job titles from department \"POL Police\"."
   ]
  },
  {
   "cell_type": "code",
   "execution_count": 17,
   "metadata": {
    "scrolled": true
   },
   "outputs": [
    {
     "data": {
      "text/html": [
       "<table>\n",
       "<thead><tr><th scope=col>Job</th></tr></thead>\n",
       "<tbody>\n",
       "\t<tr><td>Public Service Trainee     </td></tr>\n",
       "\t<tr><td>Swimming Instructor        </td></tr>\n",
       "\t<tr><td>Communications Dispatcher 1</td></tr>\n",
       "</tbody>\n",
       "</table>\n"
      ],
      "text/latex": [
       "\\begin{tabular}{r|l}\n",
       " Job\\\\\n",
       "\\hline\n",
       "\t Public Service Trainee     \\\\\n",
       "\t Swimming Instructor        \\\\\n",
       "\t Communications Dispatcher 1\\\\\n",
       "\\end{tabular}\n"
      ],
      "text/markdown": [
       "\n",
       "| Job |\n",
       "|---|\n",
       "| Public Service Trainee      |\n",
       "| Swimming Instructor         |\n",
       "| Communications Dispatcher 1 |\n",
       "\n"
      ],
      "text/plain": [
       "  Job                        \n",
       "1 Public Service Trainee     \n",
       "2 Swimming Instructor        \n",
       "3 Communications Dispatcher 1"
      ]
     },
     "metadata": {},
     "output_type": "display_data"
    }
   ],
   "source": [
    "depa=\"REC Recreation & Park Commsn\"\n",
    "group5<-main %>% filter(Department == depa) %>%\n",
    "  select(Job)\n",
    "list5<-head(group5,n=3)\n",
    "list5"
   ]
  },
  {
   "cell_type": "markdown",
   "metadata": {},
   "source": [
    "List5 is used to store the some of the job titles from department \"REC Recreation & Park Commsn\"."
   ]
  },
  {
   "cell_type": "markdown",
   "metadata": {},
   "source": [
    "# 6.Conditionals"
   ]
  },
  {
   "cell_type": "markdown",
   "metadata": {},
   "source": [
    "6.1 Seperate the employes on the basis of their salary."
   ]
  },
  {
   "cell_type": "code",
   "execution_count": 18,
   "metadata": {},
   "outputs": [
    {
     "data": {
      "image/png": "[encoded data removed]",
      "text/plain": [
       "Plot with title \"Pie chart of All Employee's Salary\""
      ]
     },
     "metadata": {},
     "output_type": "display_data"
    }
   ],
   "source": [
    "library('ggplot2')\n",
    "sal_distri<-subset(main, select=c(Salaries) )\n",
    "sal_vector <- sal_distri$Salaries\n",
    "above100k = 0\n",
    "in50k100k = 0\n",
    "in10k50k = 0\n",
    "below10k = 0\n",
    "above200k = 0\n",
    "\n",
    "for(i in sal_vector )\n",
    "   {\n",
    "    if(i < 10000)\n",
    "    {\n",
    "        below10k = below10k + 1\n",
    "    }\n",
    "    if(i < 50000 && i > 10000)\n",
    "        {\n",
    "        in10k50k = in10k50k + 1\n",
    "    }\n",
    "    if(i < 100000 && i > 50000)\n",
    "        {\n",
    "        in50k100k = in50k100k + 1\n",
    "    }\n",
    "     if(i < 200000 && i > 100000)\n",
    "        {\n",
    "        above100k = above100k + 1\n",
    "    }   \n",
    "       if(i > 200000 )\n",
    "        {\n",
    "        above200k = above200k + 1\n",
    "    }   \n",
    "   }\n",
    "\n",
    "x <- c(above200k,above100k,in50k100k,in10k50k,below10k)\n",
    "\n",
    "label <- c(\"200000+\",\"100000-200000\",\"50000-100000\",\"10000-50000\",\"1-10000\")\n",
    "\n",
    "pie(x, x, main = \"Pie chart of All Employee's Salary\", col = rainbow(length(x)))\n",
    "\n",
    "legend(\"topright\", label, cex = .8,  fill = rainbow(length(x)))\n",
    "\n",
    "\n",
    "#loopcount- 1\n",
    "#conditionalcount- 1"
   ]
  },
  {
   "cell_type": "markdown",
   "metadata": {},
   "source": [
    "Above pie chart signifies the employee's salary bracket. i.e how many employee comes under particular salary bracket."
   ]
  },
  {
   "cell_type": "markdown",
   "metadata": {},
   "source": [
    "6.2 Seperate the employes on the basis of the total compensation."
   ]
  },
  {
   "cell_type": "code",
   "execution_count": 19,
   "metadata": {
    "scrolled": true
   },
   "outputs": [
    {
     "data": {
      "image/png": "[encoded data removed]",
      "text/plain": [
       "Plot with title \"Pie chart of Employee's Total Compensation (in percentage)\""
      ]
     },
     "metadata": {},
     "output_type": "display_data"
    }
   ],
   "source": [
    "library('ggplot2')\n",
    "comp_distri<-subset(main, select=c(Total.Compensation ) )\n",
    "comp_vector <- comp_distri$Total.Compensation\n",
    "above100k = 0\n",
    "in50k100k = 0\n",
    "in10k50k = 0\n",
    "below10k = 0\n",
    "zerocomp = 0\n",
    "above200k = 0\n",
    "\n",
    "for(i in comp_vector )\n",
    "   {\n",
    "    if(i == 0)\n",
    "    {\n",
    "    zerocomp = zerocomp+1\n",
    "    }\n",
    "    if(i < 10000 && i > 0)\n",
    "    {\n",
    "        below10k = below10k + 1\n",
    "    }\n",
    "    if(i < 50000 && i > 10000)\n",
    "        {\n",
    "        in10k50k = in10k50k + 1\n",
    "    }\n",
    "    if(i < 100000 && i > 50000)\n",
    "        {\n",
    "        in50k100k = in50k100k + 1\n",
    "    }\n",
    "     if(i < 200000 && i > 100000)\n",
    "        {\n",
    "        above100k = above100k + 1\n",
    "    }   \n",
    "       if(i > 200000 )\n",
    "        {\n",
    "        above200k = above200k + 1\n",
    "    }   \n",
    "   }\n",
    "\n",
    "x <- c(above200k,above100k,in50k100k,in10k50k,below10k,zerocomp)\n",
    "lables <- c(\"200000+\",\"100000-200000\",\"50000-100000\",\"10000-50000\",\"1-10000\",\"0\")\n",
    "piepercent<- round(100*x/sum(x), 1)\n",
    "\n",
    "pie(x, labels = piepercent, main = \"Pie chart of Employee's Total Compensation (in percentage)\",col = rainbow(length(x)))\n",
    "legend(\"topright\", lables, cex = .8,\n",
    "   fill = rainbow(length(x)))\n",
    "\n",
    "#loopcount- 2\n",
    "#conditionalcount- 2"
   ]
  },
  {
   "cell_type": "markdown",
   "metadata": {},
   "source": [
    "The above pie chart represent the percentage of employees and their total compensation barcaket."
   ]
  },
  {
   "cell_type": "markdown",
   "metadata": {},
   "source": [
    "# 7. Loop"
   ]
  },
  {
   "cell_type": "markdown",
   "metadata": {},
   "source": [
    "7.1 Seperate the employes on the basis of retirement income."
   ]
  },
  {
   "cell_type": "code",
   "execution_count": 20,
   "metadata": {
    "scrolled": true
   },
   "outputs": [
    {
     "data": {
      "text/html": [
       "<table>\n",
       "<thead><tr><th scope=col>Organization.Group.Code</th><th scope=col>Organization.Group</th><th scope=col>n</th></tr></thead>\n",
       "<tbody>\n",
       "\t<tr><td>1                                       </td><td>Public Protection                       </td><td>131841                                  </td></tr>\n",
       "\t<tr><td>2                                           </td><td>Public Works, Transportation &amp; Commerce </td><td>214201                                      </td></tr>\n",
       "\t<tr><td>3                                           </td><td>Human Welfare &amp; Neighborhood Development</td><td> 61880                                      </td></tr>\n",
       "\t<tr><td>4                                       </td><td>Community Health                        </td><td>148821                                  </td></tr>\n",
       "\t<tr><td>5                                                                                   </td><td><span style=white-space:pre-wrap>Culture &amp; Recreation                    </span></td><td> 61716                                                                              </td></tr>\n",
       "\t<tr><td>6                                                                                   </td><td><span style=white-space:pre-wrap>General Administration &amp; Finance        </span></td><td> 62266                                                                              </td></tr>\n",
       "\t<tr><td>7                                       </td><td>General City Responsibilities           </td><td>154582                                  </td></tr>\n",
       "</tbody>\n",
       "</table>\n"
      ],
      "text/latex": [
       "\\begin{tabular}{r|lll}\n",
       " Organization.Group.Code & Organization.Group & n\\\\\n",
       "\\hline\n",
       "\t 1                                        & Public Protection                        & 131841                                  \\\\\n",
       "\t 2                                          & Public Works, Transportation \\& Commerce  & 214201                                    \\\\\n",
       "\t 3                                          & Human Welfare \\& Neighborhood Development &  61880                                    \\\\\n",
       "\t 4                                        & Community Health                         & 148821                                  \\\\\n",
       "\t 5                                          & Culture \\& Recreation                     &  61716                                    \\\\\n",
       "\t 6                                          & General Administration \\& Finance         &  62266                                    \\\\\n",
       "\t 7                                        & General City Responsibilities            & 154582                                  \\\\\n",
       "\\end{tabular}\n"
      ],
      "text/markdown": [
       "\n",
       "| Organization.Group.Code | Organization.Group | n |\n",
       "|---|---|---|\n",
       "| 1                                        | Public Protection                        | 131841                                   |\n",
       "| 2                                        | Public Works, Transportation & Commerce  | 214201                                   |\n",
       "| 3                                        | Human Welfare & Neighborhood Development |  61880                                   |\n",
       "| 4                                        | Community Health                         | 148821                                   |\n",
       "| 5                                        | Culture & Recreation                     |  61716                                   |\n",
       "| 6                                        | General Administration & Finance         |  62266                                   |\n",
       "| 7                                        | General City Responsibilities            | 154582                                   |\n",
       "\n"
      ],
      "text/plain": [
       "  Organization.Group.Code Organization.Group                       n     \n",
       "1 1                       Public Protection                        131841\n",
       "2 2                       Public Works, Transportation & Commerce  214201\n",
       "3 3                       Human Welfare & Neighborhood Development  61880\n",
       "4 4                       Community Health                         148821\n",
       "5 5                       Culture & Recreation                      61716\n",
       "6 6                       General Administration & Finance          62266\n",
       "7 7                       General City Responsibilities            154582"
      ]
     },
     "metadata": {},
     "output_type": "display_data"
    },
    {
     "name": "stdout",
     "output_type": "stream",
     "text": [
      "[1] \"total number of jobs = \"\n",
      "[1] 835307\n"
     ]
    }
   ],
   "source": [
    "jobsbyorg<-main %>% filter(Organization.Group.Code !=\"<NA>\") %>% \n",
    "  select(Organization.Group.Code, Organization.Group) %>% \n",
    "  group_by(Organization.Group.Code, Organization.Group) %>% \n",
    "  count(Organization.Group.Code) %>%\n",
    "  arrange(Organization.Group.Code,desc(n))\n",
    "jobsbyorg\n",
    "total_jobs = 0\n",
    "for(i in jobsbyorg$n)\n",
    "    {\n",
    "    total_jobs = total_jobs + i\n",
    "}\n",
    "print(\"total number of jobs = \")\n",
    "print(total_jobs)\n",
    "\n",
    "#loopcount- 3\n",
    "#conditionalcount- 2"
   ]
  },
  {
   "cell_type": "markdown",
   "metadata": {},
   "source": [
    "Above stats shows the Number of jobs created by each Organization in the city. Also displays the total number of jobs using loop."
   ]
  },
  {
   "cell_type": "markdown",
   "metadata": {},
   "source": [
    "7.2 Top 10 Highest paying job titles in the city."
   ]
  },
  {
   "cell_type": "code",
   "execution_count": 21,
   "metadata": {},
   "outputs": [],
   "source": [
    "top10 <- main %>% filter(Total.Salary != \"<NA>\") %>% select(Total.Salary,Job ) %>%\n",
    "group_by(Total.Salary,Job) "
   ]
  },
  {
   "cell_type": "markdown",
   "metadata": {},
   "source": [
    "This code will help to extract total.salary and jobs from main datasets and whichever row does not contain total.salary will be ruled out."
   ]
  },
  {
   "cell_type": "code",
   "execution_count": 22,
   "metadata": {},
   "outputs": [
    {
     "data": {
      "text/html": [
       "<table>\n",
       "<tbody>\n",
       "\t<tr><th scope=row>Position</th><td>1                             </td><td>2                             </td><td>3                             </td><td>4                             </td><td>5                             </td><td>6                             </td><td>7                             </td><td>8                             </td><td>9                             </td><td>10                            </td></tr>\n",
       "\t<tr><th scope=row>JobTitle</th><td>Police Officer 3              </td><td>Chief Investment Officer      </td><td>Deputy Chief 3                </td><td>Dep Chf of Dept (Fire Dept)   </td><td>Managing Director             </td><td>Assistant Chief of Police     </td><td>Senior Deputy Sheriff         </td><td>Managing Director             </td><td>Battalion Chief, Fire Suppress</td><td>Deputy Sheriff                </td></tr>\n",
       "\t<tr><th scope=row>TotalSalary</th><td>652548.01                     </td><td>507831.6                      </td><td>471952.64                     </td><td>467831.99                     </td><td>462264                        </td><td>458528.75                     </td><td>450999.13                     </td><td>449807.86                     </td><td>448305.9                      </td><td>426250.7                      </td></tr>\n",
       "</tbody>\n",
       "</table>\n"
      ],
      "text/latex": [
       "\\begin{tabular}{r|llllllllll}\n",
       "\tPosition & 1                              & 2                              & 3                              & 4                              & 5                              & 6                              & 7                              & 8                              & 9                              & 10                            \\\\\n",
       "\tJobTitle & Police Officer 3               & Chief Investment Officer       & Deputy Chief 3                 & Dep Chf of Dept (Fire Dept)    & Managing Director              & Assistant Chief of Police      & Senior Deputy Sheriff          & Managing Director              & Battalion Chief, Fire Suppress & Deputy Sheriff                \\\\\n",
       "\tTotalSalary & 652548.01                      & 507831.6                       & 471952.64                      & 467831.99                      & 462264                         & 458528.75                      & 450999.13                      & 449807.86                      & 448305.9                       & 426250.7                      \\\\\n",
       "\\end{tabular}\n"
      ],
      "text/markdown": [
       "\n",
       "| Position | 1                              | 2                              | 3                              | 4                              | 5                              | 6                              | 7                              | 8                              | 9                              | 10                             |\n",
       "| JobTitle | Police Officer 3               | Chief Investment Officer       | Deputy Chief 3                 | Dep Chf of Dept (Fire Dept)    | Managing Director              | Assistant Chief of Police      | Senior Deputy Sheriff          | Managing Director              | Battalion Chief, Fire Suppress | Deputy Sheriff                 |\n",
       "| TotalSalary | 652548.01                      | 507831.6                       | 471952.64                      | 467831.99                      | 462264                         | 458528.75                      | 450999.13                      | 449807.86                      | 448305.9                       | 426250.7                       |\n",
       "\n"
      ],
      "text/plain": [
       "            [,1]             [,2]                     [,3]          \n",
       "Position    1                2                        3             \n",
       "JobTitle    Police Officer 3 Chief Investment Officer Deputy Chief 3\n",
       "TotalSalary 652548.01        507831.6                 471952.64     \n",
       "            [,4]                        [,5]             \n",
       "Position    4                           5                \n",
       "JobTitle    Dep Chf of Dept (Fire Dept) Managing Director\n",
       "TotalSalary 467831.99                   462264           \n",
       "            [,6]                      [,7]                  [,8]             \n",
       "Position    6                         7                     8                \n",
       "JobTitle    Assistant Chief of Police Senior Deputy Sheriff Managing Director\n",
       "TotalSalary 458528.75                 450999.13             449807.86        \n",
       "            [,9]                           [,10]         \n",
       "Position    9                              10            \n",
       "JobTitle    Battalion Chief, Fire Suppress Deputy Sheriff\n",
       "TotalSalary 448305.9                       426250.7      "
      ]
     },
     "metadata": {},
     "output_type": "display_data"
    }
   ],
   "source": [
    "inorder <- top10[with(top10, order(-Total.Salary)), ] \n",
    "top <-head(inorder,n = 100)\n",
    "top_vector <- top$Job\n",
    "topsal_vector <- top$Total.Salary\n",
    "k=1\n",
    "l=-1\n",
    "vecjob <- c()\n",
    "vecsal <- c()\n",
    "j = \"Police Officer 3\"\n",
    "for(i in top_vector)\n",
    "    {\n",
    "    l=l+1\n",
    "    if(i != j && k < 11)\n",
    "    {\n",
    "        #print(j)\n",
    "       # print(topsal_vector[l])\n",
    "      vecjob[length(vecjob)+1] <- j\n",
    "      vecsal[length(vecsal)+1] <- topsal_vector[l]\n",
    "        j = i\n",
    "        k = k+1\n",
    "    }\n",
    "    else{\n",
    "        \n",
    "    }\n",
    "}\n",
    "\n",
    "rbind(Position =c(1,2,3,4,5,6,7,8,9,10),\n",
    "    JobTitle = vecjob,\n",
    "      TotalSalary = vecsal)\n",
    "\n",
    "#loopcount- 4\n",
    "#conditionalcount- 3"
   ]
  },
  {
   "cell_type": "markdown",
   "metadata": {},
   "source": [
    "The above Table conatins the values of the top 10 salaried job titles with their salary."
   ]
  },
  {
   "cell_type": "markdown",
   "metadata": {},
   "source": [
    "7.3  List out the top 10 highest number of job titles in the city."
   ]
  },
  {
   "cell_type": "code",
   "execution_count": 23,
   "metadata": {},
   "outputs": [
    {
     "data": {
      "text/html": [
       "<table>\n",
       "<thead><tr><th scope=col>Job</th><th scope=col>n</th></tr></thead>\n",
       "<tbody>\n",
       "\t<tr><td>Transit Operator            </td><td>52300                       </td></tr>\n",
       "\t<tr><td>Special Nurse               </td><td>28242                       </td></tr>\n",
       "\t<tr><td>Registered Nurse            </td><td>26104                       </td></tr>\n",
       "\t<tr><td>Firefighter                 </td><td>17190                       </td></tr>\n",
       "\t<tr><td>Custodian                   </td><td>16218                       </td></tr>\n",
       "\t<tr><td>Public Service Trainee      </td><td>16108                       </td></tr>\n",
       "\t<tr><td>Police Officer 3            </td><td>15579                       </td></tr>\n",
       "\t<tr><td>Police Officer              </td><td>14015                       </td></tr>\n",
       "\t<tr><td>Recreation Leader           </td><td>13354                       </td></tr>\n",
       "\t<tr><td>Public Svc Aide-Public Works</td><td>12003                       </td></tr>\n",
       "</tbody>\n",
       "</table>\n"
      ],
      "text/latex": [
       "\\begin{tabular}{r|ll}\n",
       " Job & n\\\\\n",
       "\\hline\n",
       "\t Transit Operator             & 52300                       \\\\\n",
       "\t Special Nurse                & 28242                       \\\\\n",
       "\t Registered Nurse             & 26104                       \\\\\n",
       "\t Firefighter                  & 17190                       \\\\\n",
       "\t Custodian                    & 16218                       \\\\\n",
       "\t Public Service Trainee       & 16108                       \\\\\n",
       "\t Police Officer 3             & 15579                       \\\\\n",
       "\t Police Officer               & 14015                       \\\\\n",
       "\t Recreation Leader            & 13354                       \\\\\n",
       "\t Public Svc Aide-Public Works & 12003                       \\\\\n",
       "\\end{tabular}\n"
      ],
      "text/markdown": [
       "\n",
       "| Job | n |\n",
       "|---|---|\n",
       "| Transit Operator             | 52300                        |\n",
       "| Special Nurse                | 28242                        |\n",
       "| Registered Nurse             | 26104                        |\n",
       "| Firefighter                  | 17190                        |\n",
       "| Custodian                    | 16218                        |\n",
       "| Public Service Trainee       | 16108                        |\n",
       "| Police Officer 3             | 15579                        |\n",
       "| Police Officer               | 14015                        |\n",
       "| Recreation Leader            | 13354                        |\n",
       "| Public Svc Aide-Public Works | 12003                        |\n",
       "\n"
      ],
      "text/plain": [
       "   Job                          n    \n",
       "1  Transit Operator             52300\n",
       "2  Special Nurse                28242\n",
       "3  Registered Nurse             26104\n",
       "4  Firefighter                  17190\n",
       "5  Custodian                    16218\n",
       "6  Public Service Trainee       16108\n",
       "7  Police Officer 3             15579\n",
       "8  Police Officer               14015\n",
       "9  Recreation Leader            13354\n",
       "10 Public Svc Aide-Public Works 12003"
      ]
     },
     "metadata": {},
     "output_type": "display_data"
    }
   ],
   "source": [
    "jobs<-main %>% filter(Job !=\"<NA>\") %>% \n",
    "  select(Job) %>% \n",
    "  group_by(Job) %>% \n",
    "  count(Job) %>%\n",
    "  arrange(Job,desc(n))\n",
    "jobs10 <- jobs[with(jobs, order(-n)), ] \n",
    "head(jobs10,n=10)"
   ]
  },
  {
   "cell_type": "markdown",
   "metadata": {},
   "source": [
    "The table shows the Top 10 highest number of job titles in the city."
   ]
  },
  {
   "cell_type": "markdown",
   "metadata": {},
   "source": [
    "# 8.Summary"
   ]
  },
  {
   "cell_type": "markdown",
   "metadata": {},
   "source": [
    "  Dataset \"employee-compensation\" is used to carrryout analysis which contains data of employees from various department in the city. To overcome subset objective, 5 subsets were created to store different aspects of the datasets. Subset1 gives information about the Organization and its department code and organization group code. While Subset2 gives infromation about the employee's job title and its total compensation. Whereas Subset3 helps to understand the employee's total benefits and total salary. Likewise Subset4 allows to calculate the total amount spent on retirement for each employee every year whose annual retirement is aboove 50000. Lastly Subset5 shows the other salaries for an employees and also tells about other benefits for an employee.\n",
    "    \n",
    "   5 Lists are used to seperate the job titles on the basis of their respective departments which can help to identify which job titles comes under which department. Some facts and figures about employee's salary, total compensation, retirement income are carved out using loops and conditionals statements.\n",
    "\n",
    "   At the end two tables are showns that shows \"Top 10 Highest paying job titles\"  and  \"top 10 highest number of job titles\" in the city."
   ]
  },
  {
   "cell_type": "markdown",
   "metadata": {},
   "source": [
    "# 9.Recommendations"
   ]
  },
  {
   "cell_type": "markdown",
   "metadata": {},
   "source": [
    "After performing analysis on the employee-compensation dataset many interesting facts have been found out. The San Francisco Chronicle newspaper can publish some of these facts in their newspaper that will help readers to know more about their city's employment scenerio. Table such as \"Top 10 highest paying jobs titles in the city\" can attracts readers attention. Also the finding about the retirement income may facinate some readers. One important observation from this analysis can be the \"Top 10 highest number of job titles in the city\". The newspaper can take this facts and figure and can print them on their front page. Most of the findings from this analysis can also be used as selling punch lines. "
   ]
  }
 ],
 "metadata": {
  "kernelspec": {
   "display_name": "R",
   "language": "R",
   "name": "ir"
  },
  "language_info": {
   "codemirror_mode": "r",
   "file_extension": ".r",
   "mimetype": "text/x-r-source",
   "name": "R",
   "pygments_lexer": "r",
   "version": "3.6.1"
  }
 },
 "nbformat": 4,
 "nbformat_minor": 2
}
